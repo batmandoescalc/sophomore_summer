{
 "cells": [
  {
   "cell_type": "code",
   "execution_count": null,
   "metadata": {},
   "outputs": [],
   "source": [
    "def SERIES1(f, i=1, n=100):\n",
    "    \"\"\"Computes the sum of the first n terms of a series\"\"\"\n",
    "    k = i\n",
    "    s = 0\n",
    "    while k <= n:\n",
    "        s = s + f(k)\n",
    "        k = k + 1\n",
    "    print(s)"
   ]
  },
  {
   "cell_type": "code",
   "execution_count": null,
   "metadata": {},
   "outputs": [],
   "source": [
    "# Provide the formula for each term of the series\n",
    "def f(n):\n",
    "\treturn 2*(99/100)**n\n",
    "\n",
    "# Parameters\n",
    "i = 1       # Index of the first term (usually 0 or 1)\n",
    "n = 50      # Index of the last term to include\n",
    "\n",
    "# Run\n",
    "SERIES1(f, i, n)"
   ]
  },
  {
   "cell_type": "code",
   "execution_count": null,
   "metadata": {},
   "outputs": [],
   "source": []
  }
 ],
 "metadata": {
  "kernelspec": {
   "display_name": "base",
   "language": "python",
   "name": "python3"
  },
  "language_info": {
   "codemirror_mode": {
    "name": "ipython",
    "version": 3
   },
   "file_extension": ".py",
   "mimetype": "text/x-python",
   "name": "python",
   "nbconvert_exporter": "python",
   "pygments_lexer": "ipython3",
   "version": "3.11.5"
  }
 },
 "nbformat": 4,
 "nbformat_minor": 2
}
