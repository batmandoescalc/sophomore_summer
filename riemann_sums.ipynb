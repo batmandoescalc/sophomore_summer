{
 "cells": [
  {
   "cell_type": "code",
   "execution_count": null,
   "metadata": {},
   "outputs": [],
   "source": [
    "import numpy as np\n",
    "import matplotlib.pyplot as plt"
   ]
  },
  {
   "cell_type": "code",
   "execution_count": null,
   "metadata": {},
   "outputs": [],
   "source": [
    "# Riemann sum (left endpoint)\n",
    "def left_riemann_sum(f, a, b, n):\n",
    "    dx = (b - a) / n\n",
    "    x = np.linspace(a, b - dx, n)\n",
    "    y = f(x)\n",
    "    return np.sum(y * dx), x, y, dx\n",
    "\n",
    "# Plotting function and rectangles\n",
    "def plot_left_riemann_sum(f, a, b, n):\n",
    "    total_area, x, y, dx = left_riemann_sum(f, a, b, n)\n",
    "    \n",
    "    # Plot function\n",
    "    x_vals = np.linspace(a, b, 1000)\n",
    "    y_vals = f(x_vals)\n",
    "    plt.plot(x_vals, y_vals, 'b', label='f(x)')\n",
    "\n",
    "    # Plot rectangles\n",
    "    for xi, yi in zip(x, y):\n",
    "        plt.bar(xi, yi, width=dx, align='edge', alpha=0.4, edgecolor='black', color='skyblue')\n",
    "\n",
    "    plt.title(f\"Left Riemann Sum (n={n}) ≈ {total_area:.5f}\")\n",
    "    plt.xlabel(\"x\")\n",
    "    plt.ylabel(\"f(x)\")\n",
    "    plt.legend()\n",
    "    plt.grid(True)\n",
    "    plt.show()\n"
   ]
  },
  {
   "cell_type": "code",
   "execution_count": null,
   "metadata": {},
   "outputs": [],
   "source": [
    "# Define the function you want to integrate\n",
    "def f(x):\n",
    "    return x**2  # Example: change this to any function you want\n",
    "\n",
    "# Parameters\n",
    "a = 0       # Start of interval\n",
    "b = 3       # End of interval\n",
    "n = 6       # Number of rectangles\n",
    "\n",
    "# Run\n",
    "plot_left_riemann_sum(f, a, b, n)"
   ]
  },
  {
   "cell_type": "code",
   "execution_count": null,
   "metadata": {},
   "outputs": [],
   "source": []
  }
 ],
 "metadata": {
  "kernelspec": {
   "display_name": "base",
   "language": "python",
   "name": "python3"
  },
  "language_info": {
   "codemirror_mode": {
    "name": "ipython",
    "version": 3
   },
   "file_extension": ".py",
   "mimetype": "text/x-python",
   "name": "python",
   "nbconvert_exporter": "python",
   "pygments_lexer": "ipython3",
   "version": "3.11.5"
  }
 },
 "nbformat": 4,
 "nbformat_minor": 2
}
